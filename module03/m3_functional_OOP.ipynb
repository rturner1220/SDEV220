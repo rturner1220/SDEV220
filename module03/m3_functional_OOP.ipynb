{
 "cells": [
  {
   "cell_type": "markdown",
   "id": "5d67458c-fd29-4f65-8f5e-a4946d3a1776",
   "metadata": {},
   "source": [
    "Given an array arr[] containing only 0s, 1s, and 2s. Sort the array in ascending order."
   ]
  },
  {
   "cell_type": "code",
   "execution_count": 2,
   "id": "fb54a92c-04bc-41d5-bca9-6f3b3d92d233",
   "metadata": {},
   "outputs": [
    {
     "name": "stdout",
     "output_type": "stream",
     "text": [
      "[0, 0, 1, 1, 2, 2]\n"
     ]
    }
   ],
   "source": [
    "def sort012(arr):\n",
    "    count = [0, 0, 0] # Count how many 0s, 1s, and 2s\n",
    "    for num in arr:\n",
    "        count[num] += 1\n",
    "    return [0]*count[0] + [1]*count[1] + [2]*count[2]\n",
    "\n",
    "arr = [0, 1, 2, 0, 1, 2]\n",
    "print(sort012(arr))"
   ]
  },
  {
   "cell_type": "markdown",
   "id": "3ae64aff-2a81-4105-9df0-4007d9a14f70",
   "metadata": {},
   "source": [
    "Given a sorted array arr and an integer k, find the position(0-based indexing) at which k is present in the array using binary search."
   ]
  },
  {
   "cell_type": "code",
   "execution_count": 3,
   "id": "f428fcd7-933d-40bf-9f84-180f44b36217",
   "metadata": {},
   "outputs": [
    {
     "name": "stdout",
     "output_type": "stream",
     "text": [
      "0\n"
     ]
    }
   ],
   "source": [
    "def binary_search(arr, k):\n",
    "    for i in range(len(arr)):\n",
    "        if arr[i] == k:\n",
    "            return i\n",
    "    return -1\n",
    "\n",
    "arr = [1, 1, 1, 2]\n",
    "k = 1\n",
    "print(binary_search(arr, k))"
   ]
  }
 ],
 "metadata": {
  "kernelspec": {
   "display_name": "Python 3 (ipykernel)",
   "language": "python",
   "name": "python3"
  },
  "language_info": {
   "codemirror_mode": {
    "name": "ipython",
    "version": 3
   },
   "file_extension": ".py",
   "mimetype": "text/x-python",
   "name": "python",
   "nbconvert_exporter": "python",
   "pygments_lexer": "ipython3",
   "version": "3.12.7"
  }
 },
 "nbformat": 4,
 "nbformat_minor": 5
}
